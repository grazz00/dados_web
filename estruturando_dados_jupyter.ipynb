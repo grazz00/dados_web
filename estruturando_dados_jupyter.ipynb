{
 "cells": [
  {
   "cell_type": "code",
   "execution_count": 17,
   "id": "f028b448-0c92-45cb-a7b5-91a6a059ab55",
   "metadata": {},
   "outputs": [],
   "source": [
    "import pandas as pd"
   ]
  },
  {
   "cell_type": "code",
   "execution_count": 18,
   "id": "43676bcd-5621-467a-ab03-ab5fd8a28af7",
   "metadata": {},
   "outputs": [],
   "source": [
    "# lista dentro de uma ista é igual a uma matriz\"\n",
    "\n",
    "musicas =  [\n",
    "   \n",
    "   \n",
    "    [\"radioctive\",\"imagine dragons\",2012],\n",
    "    [ \"goodvibrations\",\"the beach boys\", 1966 ],\n",
    "    [\"a day in the life\",\"the beatles\",1967 ],\n",
    "    [\"message in a bottle\",\" the police\",1979]\n",
    "\n",
    "    \n",
    "]"
   ]
  },
  {
   "cell_type": "code",
   "execution_count": 19,
   "id": "c2bc48a4-1ef9-4709-82b7-d73dd20cff2c",
   "metadata": {},
   "outputs": [],
   "source": [
    "titulos = [\"nome\", \"banda\", \"lançamento\"]\n"
   ]
  },
  {
   "cell_type": "code",
   "execution_count": 27,
   "id": "6a64266a-2843-490a-bfac-11e4d8b8255b",
   "metadata": {},
   "outputs": [],
   "source": [
    " df = pd.DataFrame(musicas, columns=titulos)"
   ]
  },
  {
   "cell_type": "code",
   "execution_count": 28,
   "id": "3727fbc1-75b4-40ab-ba2f-e93a344e7e5b",
   "metadata": {},
   "outputs": [
    {
     "name": "stdout",
     "output_type": "stream",
     "text": [
      "                  nome            banda  lançamento\n",
      "0           radioctive  imagine dragons        2012\n",
      "1       goodvibrations   the beach boys        1966\n",
      "2    a day in the life      the beatles        1967\n",
      "3  message in a bottle       the police        1979\n"
     ]
    }
   ],
   "source": [
    "print(df)"
   ]
  },
  {
   "cell_type": "code",
   "execution_count": null,
   "id": "1305b960-bf59-4764-8b9e-e76ec3c9d07e",
   "metadata": {},
   "outputs": [],
   "source": []
  }
 ],
 "metadata": {
  "kernelspec": {
   "display_name": "Python 3 (ipykernel)",
   "language": "python",
   "name": "python3"
  },
  "language_info": {
   "codemirror_mode": {
    "name": "ipython",
    "version": 3
   },
   "file_extension": ".py",
   "mimetype": "text/x-python",
   "name": "python",
   "nbconvert_exporter": "python",
   "pygments_lexer": "ipython3",
   "version": "3.11.7"
  }
 },
 "nbformat": 4,
 "nbformat_minor": 5
}
